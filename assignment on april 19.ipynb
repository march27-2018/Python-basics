{
 "cells": [
  {
   "cell_type": "markdown",
   "id": "10b718b7",
   "metadata": {},
   "source": [
    "# string methods"
   ]
  },
  {
   "cell_type": "markdown",
   "id": "687b58d3",
   "metadata": {},
   "source": [
    "# 1.capitalize()"
   ]
  },
  {
   "cell_type": "code",
   "execution_count": 12,
   "id": "28aedc5b",
   "metadata": {},
   "outputs": [
    {
     "name": "stdout",
     "output_type": "stream",
     "text": [
      "anusha\n",
      "Anusha\n"
     ]
    }
   ],
   "source": [
    "name='anusha'\n",
    "print(name)\n",
    "name1=name.capitalize()\n",
    "print(name1)"
   ]
  },
  {
   "cell_type": "code",
   "execution_count": 13,
   "id": "2ee95b66",
   "metadata": {},
   "outputs": [
    {
     "name": "stdout",
     "output_type": "stream",
     "text": [
      "beTTer\n",
      "Better\n"
     ]
    }
   ],
   "source": [
    "quality='beTTer'\n",
    "print(quality)\n",
    "quality1=quality.capitalize()\n",
    "print(quality1)"
   ]
  },
  {
   "cell_type": "code",
   "execution_count": 14,
   "id": "7a4a0fad",
   "metadata": {},
   "outputs": [
    {
     "name": "stdout",
     "output_type": "stream",
     "text": [
      "@ better\n",
      "@ better\n"
     ]
    }
   ],
   "source": [
    "quality='@ better'\n",
    "print(quality)\n",
    "quality1=quality.capitalize()\n",
    "print(quality1)\n"
   ]
  },
  {
   "cell_type": "markdown",
   "id": "b1e316a0",
   "metadata": {},
   "source": [
    "# 2.casefold()"
   ]
  },
  {
   "cell_type": "code",
   "execution_count": 3,
   "id": "5e38879e",
   "metadata": {},
   "outputs": [
    {
     "name": "stdout",
     "output_type": "stream",
     "text": [
      "HELLO WELCOME\n",
      "hello welcome\n"
     ]
    }
   ],
   "source": [
    "a=\"HELLO WELCOME\"\n",
    "print(a)\n",
    "a1=a.casefold()\n",
    "print(a1)"
   ]
  },
  {
   "cell_type": "code",
   "execution_count": 4,
   "id": "a67b9467",
   "metadata": {},
   "outputs": [
    {
     "name": "stdout",
     "output_type": "stream",
     "text": [
      "HelLo HoW Are YoU\n",
      "hello how are you\n"
     ]
    }
   ],
   "source": [
    "b=\"HelLo HoW Are YoU\"\n",
    "print(b)\n",
    "b1=b.casefold()\n",
    "print(b1)"
   ]
  },
  {
   "cell_type": "markdown",
   "id": "87069a4a",
   "metadata": {},
   "source": [
    "# 3.center()"
   ]
  },
  {
   "cell_type": "code",
   "execution_count": 8,
   "id": "e0bd3fc6",
   "metadata": {},
   "outputs": [
    {
     "name": "stdout",
     "output_type": "stream",
     "text": [
      "welcome\n",
      "      welcome       \n"
     ]
    }
   ],
   "source": [
    "c='welcome'\n",
    "print(c)\n",
    "c1=c.center(20)\n",
    "print(c1)\n"
   ]
  },
  {
   "cell_type": "code",
   "execution_count": 6,
   "id": "940105f9",
   "metadata": {},
   "outputs": [
    {
     "data": {
      "text/plain": [
       "7"
      ]
     },
     "execution_count": 6,
     "metadata": {},
     "output_type": "execute_result"
    }
   ],
   "source": [
    "len(c)"
   ]
  },
  {
   "cell_type": "code",
   "execution_count": 9,
   "id": "74d2c7d1",
   "metadata": {},
   "outputs": [
    {
     "data": {
      "text/plain": [
       "20"
      ]
     },
     "execution_count": 9,
     "metadata": {},
     "output_type": "execute_result"
    }
   ],
   "source": [
    "len(c1)"
   ]
  },
  {
   "cell_type": "code",
   "execution_count": 11,
   "id": "11449443",
   "metadata": {},
   "outputs": [
    {
     "name": "stdout",
     "output_type": "stream",
     "text": [
      "environment\n",
      "####environment#####\n"
     ]
    }
   ],
   "source": [
    "d='environment'\n",
    "print(d)\n",
    "d1=d.center(20,'#')\n",
    "print(d1)"
   ]
  },
  {
   "cell_type": "code",
   "execution_count": 15,
   "id": "09fca1c7",
   "metadata": {},
   "outputs": [
    {
     "data": {
      "text/plain": [
       "11"
      ]
     },
     "execution_count": 15,
     "metadata": {},
     "output_type": "execute_result"
    }
   ],
   "source": [
    "len(d)"
   ]
  },
  {
   "cell_type": "code",
   "execution_count": 16,
   "id": "d365f27d",
   "metadata": {},
   "outputs": [
    {
     "data": {
      "text/plain": [
       "20"
      ]
     },
     "execution_count": 16,
     "metadata": {},
     "output_type": "execute_result"
    }
   ],
   "source": [
    "len(d1)"
   ]
  },
  {
   "cell_type": "markdown",
   "id": "29cf0e0e",
   "metadata": {},
   "source": [
    "# 4.count()"
   ]
  },
  {
   "cell_type": "code",
   "execution_count": 3,
   "id": "ebcbd333",
   "metadata": {
    "scrolled": true
   },
   "outputs": [
    {
     "name": "stdout",
     "output_type": "stream",
     "text": [
      "welcome to python programming\n",
      "2\n"
     ]
    }
   ],
   "source": [
    "h=\"welcome to python programming\"\n",
    "print(h)\n",
    "h1=h.count('p')\n",
    "print(h1)"
   ]
  },
  {
   "cell_type": "code",
   "execution_count": 5,
   "id": "bfaf708f",
   "metadata": {},
   "outputs": [
    {
     "name": "stdout",
     "output_type": "stream",
     "text": [
      "1\n"
     ]
    }
   ],
   "source": [
    "h1=h.count('p',12)\n",
    "print(h1)"
   ]
  },
  {
   "cell_type": "code",
   "execution_count": 8,
   "id": "99382fc1",
   "metadata": {},
   "outputs": [
    {
     "name": "stdout",
     "output_type": "stream",
     "text": [
      "4\n"
     ]
    }
   ],
   "source": [
    "h1=h.count('o')\n",
    "print(h1)"
   ]
  },
  {
   "cell_type": "code",
   "execution_count": 10,
   "id": "27c57fe6",
   "metadata": {},
   "outputs": [
    {
     "name": "stdout",
     "output_type": "stream",
     "text": [
      "2\n"
     ]
    }
   ],
   "source": [
    "h1=h.count('o',7,17)\n",
    "print(h1)"
   ]
  },
  {
   "cell_type": "code",
   "execution_count": 6,
   "id": "91be0a9e",
   "metadata": {},
   "outputs": [
    {
     "name": "stdout",
     "output_type": "stream",
     "text": [
      "python programming\n",
      "1\n"
     ]
    }
   ],
   "source": [
    "lang=\"python programming\"\n",
    "print(lang)\n",
    "lang1=\"ing\"\n",
    "lang2=lang.count(lang1)\n",
    "print(lang2)"
   ]
  },
  {
   "cell_type": "markdown",
   "id": "7e272ff1",
   "metadata": {},
   "source": [
    "# 5.encode()"
   ]
  },
  {
   "cell_type": "code",
   "execution_count": 12,
   "id": "d459e2ab",
   "metadata": {},
   "outputs": [
    {
     "name": "stdout",
     "output_type": "stream",
     "text": [
      "rank is first\n",
      "b'rank is first'\n"
     ]
    }
   ],
   "source": [
    "report=\"rank is first\"\n",
    "print(report)\n",
    "report1=report.encode()\n",
    "print(report1)"
   ]
  },
  {
   "cell_type": "code",
   "execution_count": 13,
   "id": "b8d3afed",
   "metadata": {},
   "outputs": [
    {
     "name": "stdout",
     "output_type": "stream",
     "text": [
      "pass\n",
      "b'pass'\n"
     ]
    }
   ],
   "source": [
    "result='pass'\n",
    "print(result)\n",
    "result1=result.encode()\n",
    "print(result1)"
   ]
  },
  {
   "cell_type": "markdown",
   "id": "8df5e44e",
   "metadata": {},
   "source": [
    "# 6.endswith()"
   ]
  },
  {
   "cell_type": "code",
   "execution_count": 15,
   "id": "4aa42f9c",
   "metadata": {},
   "outputs": [
    {
     "name": "stdout",
     "output_type": "stream",
     "text": [
      "three members are failed in the class\n",
      "True\n"
     ]
    }
   ],
   "source": [
    "fail=\"three members are failed in the class\"\n",
    "print(fail)\n",
    "fail1=fail.endswith('class')\n",
    "print(fail1)"
   ]
  },
  {
   "cell_type": "code",
   "execution_count": 18,
   "id": "e7733ddd",
   "metadata": {},
   "outputs": [
    {
     "name": "stdout",
     "output_type": "stream",
     "text": [
      "True\n"
     ]
    }
   ],
   "source": [
    "fail2=fail.endswith('the',0,31)\n",
    "print(fail2)"
   ]
  },
  {
   "cell_type": "code",
   "execution_count": 19,
   "id": "d16aa584",
   "metadata": {},
   "outputs": [
    {
     "name": "stdout",
     "output_type": "stream",
     "text": [
      "False\n"
     ]
    }
   ],
   "source": [
    "fail2=fail.endswith('in',0,29)\n",
    "print(fail2)"
   ]
  },
  {
   "cell_type": "code",
   "execution_count": 23,
   "id": "30e9a254",
   "metadata": {},
   "outputs": [
    {
     "name": "stdout",
     "output_type": "stream",
     "text": [
      "True\n"
     ]
    }
   ],
   "source": [
    "fail3=fail.endswith(('of','class'))\n",
    "print(fail3)"
   ]
  },
  {
   "cell_type": "markdown",
   "id": "ba54c920",
   "metadata": {},
   "source": [
    "# 7.expandtabs()"
   ]
  },
  {
   "cell_type": "code",
   "execution_count": 24,
   "id": "85cd0d77",
   "metadata": {},
   "outputs": [
    {
     "name": "stdout",
     "output_type": "stream",
     "text": [
      "medicines\tnostrildrops\tbanned\t123\n"
     ]
    }
   ],
   "source": [
    "products='medicines\\tnostrildrops\\tbanned\\t123'\n",
    "print(products)"
   ]
  },
  {
   "cell_type": "code",
   "execution_count": 25,
   "id": "ec61514c",
   "metadata": {},
   "outputs": [
    {
     "data": {
      "text/plain": [
       "33"
      ]
     },
     "execution_count": 25,
     "metadata": {},
     "output_type": "execute_result"
    }
   ],
   "source": [
    "len(products)"
   ]
  },
  {
   "cell_type": "code",
   "execution_count": 26,
   "id": "9a07db4f",
   "metadata": {},
   "outputs": [
    {
     "name": "stdout",
     "output_type": "stream",
     "text": [
      "medicines   nostrildrops    banned  123\n"
     ]
    }
   ],
   "source": [
    "products1=products.expandtabs(4)\n",
    "print(products1)"
   ]
  },
  {
   "cell_type": "code",
   "execution_count": 27,
   "id": "ae655a8e",
   "metadata": {},
   "outputs": [
    {
     "data": {
      "text/plain": [
       "39"
      ]
     },
     "execution_count": 27,
     "metadata": {},
     "output_type": "execute_result"
    }
   ],
   "source": [
    "len(products1)"
   ]
  },
  {
   "cell_type": "code",
   "execution_count": 28,
   "id": "fbeccd97",
   "metadata": {},
   "outputs": [
    {
     "name": "stdout",
     "output_type": "stream",
     "text": [
      "paracetamol\tascoril\t678\n"
     ]
    }
   ],
   "source": [
    "medicines='paracetamol\\tascoril\\t678'\n",
    "print(medicines)"
   ]
  },
  {
   "cell_type": "code",
   "execution_count": 29,
   "id": "80e9501a",
   "metadata": {},
   "outputs": [
    {
     "data": {
      "text/plain": [
       "23"
      ]
     },
     "execution_count": 29,
     "metadata": {},
     "output_type": "execute_result"
    }
   ],
   "source": [
    "len(medicines)"
   ]
  },
  {
   "cell_type": "code",
   "execution_count": 34,
   "id": "be597504",
   "metadata": {},
   "outputs": [
    {
     "name": "stdout",
     "output_type": "stream",
     "text": [
      "paracetamol ascoril     678\n"
     ]
    }
   ],
   "source": [
    "medicines1=medicines.expandtabs(6)\n",
    "print(medicines1)"
   ]
  },
  {
   "cell_type": "code",
   "execution_count": 35,
   "id": "71194816",
   "metadata": {},
   "outputs": [
    {
     "data": {
      "text/plain": [
       "27"
      ]
     },
     "execution_count": 35,
     "metadata": {},
     "output_type": "execute_result"
    }
   ],
   "source": [
    "len(medicines1)"
   ]
  },
  {
   "cell_type": "markdown",
   "id": "0b95c345",
   "metadata": {},
   "source": [
    "# 8.find()"
   ]
  },
  {
   "cell_type": "code",
   "execution_count": 1,
   "id": "b9282373",
   "metadata": {},
   "outputs": [
    {
     "name": "stdout",
     "output_type": "stream",
     "text": [
      "twenty students are passed in the class.\n",
      "16\n"
     ]
    }
   ],
   "source": [
    "result=\"twenty students are passed in the class.\"\n",
    "print(result)\n",
    "result1=result.find(\"are\")\n",
    "print(result1)"
   ]
  },
  {
   "cell_type": "code",
   "execution_count": 2,
   "id": "bd4478c4",
   "metadata": {},
   "outputs": [
    {
     "name": "stdout",
     "output_type": "stream",
     "text": [
      "-1\n"
     ]
    }
   ],
   "source": [
    "result1=result.find('in',4,15)\n",
    "print(result1)"
   ]
  },
  {
   "cell_type": "markdown",
   "id": "1679ea97",
   "metadata": {},
   "source": [
    "# 9.format()"
   ]
  },
  {
   "cell_type": "code",
   "execution_count": 4,
   "id": "f9c8c617",
   "metadata": {},
   "outputs": [
    {
     "name": "stdout",
     "output_type": "stream",
     "text": [
      "hi ganesh, your marks are 80.\n"
     ]
    }
   ],
   "source": [
    "report=\"hi {}, your marks are {}.\".format(\"ganesh\",80)\n",
    "print(report)"
   ]
  },
  {
   "cell_type": "code",
   "execution_count": 5,
   "id": "1a5bd4f5",
   "metadata": {},
   "outputs": [
    {
     "name": "stdout",
     "output_type": "stream",
     "text": [
      "hi ganesh, your marks are 80.\n"
     ]
    }
   ],
   "source": [
    "report=\"hi {0}, your marks are {1}.\".format(\"ganesh\",80)\n",
    "print(report)"
   ]
  },
  {
   "cell_type": "code",
   "execution_count": 7,
   "id": "4e7c433c",
   "metadata": {},
   "outputs": [
    {
     "name": "stdout",
     "output_type": "stream",
     "text": [
      "hi ganesh, your marks are 80.\n"
     ]
    }
   ],
   "source": [
    "report=\"hi {0}, your marks are {marks}.\".format(\"ganesh\",marks=80)\n",
    "print(report)"
   ]
  },
  {
   "cell_type": "markdown",
   "id": "c1cd4775",
   "metadata": {},
   "source": [
    "# 10.index()"
   ]
  },
  {
   "cell_type": "code",
   "execution_count": 8,
   "id": "e310e9af",
   "metadata": {},
   "outputs": [
    {
     "name": "stdout",
     "output_type": "stream",
     "text": [
      "shivani is a very good girl\n",
      "18\n"
     ]
    }
   ],
   "source": [
    "quality=\"shivani is a very good girl\"\n",
    "print(quality)\n",
    "q1=quality.index(\"good\")\n",
    "print(q1)"
   ]
  },
  {
   "cell_type": "code",
   "execution_count": 9,
   "id": "2046c941",
   "metadata": {},
   "outputs": [
    {
     "ename": "ValueError",
     "evalue": "substring not found",
     "output_type": "error",
     "traceback": [
      "\u001b[1;31m---------------------------------------------------------------------------\u001b[0m",
      "\u001b[1;31mValueError\u001b[0m                                Traceback (most recent call last)",
      "\u001b[1;32m~\\AppData\\Local\\Temp/ipykernel_27432/2821558099.py\u001b[0m in \u001b[0;36m<module>\u001b[1;34m\u001b[0m\n\u001b[1;32m----> 1\u001b[1;33m \u001b[0mq1\u001b[0m\u001b[1;33m=\u001b[0m\u001b[0mquality\u001b[0m\u001b[1;33m.\u001b[0m\u001b[0mindex\u001b[0m\u001b[1;33m(\u001b[0m\u001b[1;34m\"bad\"\u001b[0m\u001b[1;33m)\u001b[0m\u001b[1;33m\u001b[0m\u001b[1;33m\u001b[0m\u001b[0m\n\u001b[0m\u001b[0;32m      2\u001b[0m \u001b[0mprint\u001b[0m\u001b[1;33m(\u001b[0m\u001b[0mq1\u001b[0m\u001b[1;33m)\u001b[0m\u001b[1;33m\u001b[0m\u001b[1;33m\u001b[0m\u001b[0m\n",
      "\u001b[1;31mValueError\u001b[0m: substring not found"
     ]
    }
   ],
   "source": [
    "q1=quality.index(\"bad\")\n",
    "print(q1)"
   ]
  },
  {
   "cell_type": "code",
   "execution_count": 10,
   "id": "086e6e88",
   "metadata": {},
   "outputs": [
    {
     "name": "stdout",
     "output_type": "stream",
     "text": [
      "8\n"
     ]
    }
   ],
   "source": [
    "q1=quality.index(\"is a\",5,-13)\n",
    "print(q1)"
   ]
  },
  {
   "cell_type": "markdown",
   "id": "215a4681",
   "metadata": {},
   "source": [
    "# 11.isalnum()"
   ]
  },
  {
   "cell_type": "code",
   "execution_count": 11,
   "id": "063b1fc6",
   "metadata": {},
   "outputs": [
    {
     "name": "stdout",
     "output_type": "stream",
     "text": [
      "first123\n",
      "True\n"
     ]
    }
   ],
   "source": [
    "rate=\"first123\"\n",
    "print(rate)\n",
    "rate1=rate.isalnum()\n",
    "print(rate1)"
   ]
  },
  {
   "cell_type": "code",
   "execution_count": 12,
   "id": "f2393076",
   "metadata": {},
   "outputs": [
    {
     "name": "stdout",
     "output_type": "stream",
     "text": [
      "first\n",
      "True\n"
     ]
    }
   ],
   "source": [
    "rate=\"first\"\n",
    "print(rate)\n",
    "rate1=rate.isalnum()\n",
    "print(rate1)"
   ]
  },
  {
   "cell_type": "code",
   "execution_count": 14,
   "id": "ff7fc0cb",
   "metadata": {},
   "outputs": [
    {
     "name": "stdout",
     "output_type": "stream",
     "text": [
      "123\n",
      "True\n"
     ]
    }
   ],
   "source": [
    "rate=\"123\"\n",
    "print(rate)\n",
    "rate1=rate.isalnum()\n",
    "print(rate1)"
   ]
  },
  {
   "cell_type": "markdown",
   "id": "c6c35d58",
   "metadata": {},
   "source": [
    "# 12.isalpha()"
   ]
  },
  {
   "cell_type": "code",
   "execution_count": 15,
   "id": "865a68d5",
   "metadata": {},
   "outputs": [
    {
     "name": "stdout",
     "output_type": "stream",
     "text": [
      "thirty\n",
      "True\n"
     ]
    }
   ],
   "source": [
    "marks=\"thirty\"\n",
    "print(marks)\n",
    "marks1=marks.isalpha()\n",
    "print(marks1)"
   ]
  },
  {
   "cell_type": "code",
   "execution_count": 16,
   "id": "758db32c",
   "metadata": {},
   "outputs": [
    {
     "name": "stdout",
     "output_type": "stream",
     "text": [
      "False\n"
     ]
    }
   ],
   "source": [
    "marks=\"thirty30\"\n",
    "marks1=marks.isalpha()\n",
    "print(marks1)"
   ]
  },
  {
   "cell_type": "markdown",
   "id": "a763685c",
   "metadata": {},
   "source": [
    "# 13.isidentifier()"
   ]
  },
  {
   "cell_type": "code",
   "execution_count": 17,
   "id": "c24ab5d9",
   "metadata": {},
   "outputs": [
    {
     "name": "stdout",
     "output_type": "stream",
     "text": [
      "tableau\n",
      "True\n"
     ]
    }
   ],
   "source": [
    "language=\"tableau\"\n",
    "print(language)\n",
    "lang1=language.isidentifier()\n",
    "print(lang1)"
   ]
  },
  {
   "cell_type": "code",
   "execution_count": 18,
   "id": "d3cee1d4",
   "metadata": {},
   "outputs": [
    {
     "name": "stdout",
     "output_type": "stream",
     "text": [
      "tab leau\n",
      "False\n"
     ]
    }
   ],
   "source": [
    "language=\"tab leau\"\n",
    "print(language)\n",
    "lang1=language.isidentifier()\n",
    "print(lang1)"
   ]
  },
  {
   "cell_type": "markdown",
   "id": "0e94b358",
   "metadata": {},
   "source": [
    "# 14.isprintable()"
   ]
  },
  {
   "cell_type": "code",
   "execution_count": 19,
   "id": "802160d1",
   "metadata": {},
   "outputs": [
    {
     "name": "stdout",
     "output_type": "stream",
     "text": [
      "excellent\n",
      "True\n"
     ]
    }
   ],
   "source": [
    "p=\"excellent\"\n",
    "print(p)\n",
    "p1=p.isprintable()\n",
    "print(p1)"
   ]
  },
  {
   "cell_type": "code",
   "execution_count": 22,
   "id": "32d3cb13",
   "metadata": {},
   "outputs": [
    {
     "name": "stdout",
     "output_type": "stream",
     "text": [
      "\n",
      "excellent\n",
      "False\n"
     ]
    }
   ],
   "source": [
    "p=\"\\nexcellent\"\n",
    "print(p)\n",
    "p1=p.isprintable()\n",
    "print(p1)"
   ]
  },
  {
   "cell_type": "code",
   "execution_count": 23,
   "id": "f9ca9ad7",
   "metadata": {},
   "outputs": [
    {
     "name": "stdout",
     "output_type": "stream",
     "text": [
      " \n",
      "True\n"
     ]
    }
   ],
   "source": [
    "p=\" \"\n",
    "print(p)\n",
    "p1=p.isprintable()\n",
    "print(p1)"
   ]
  },
  {
   "cell_type": "markdown",
   "id": "80410d45",
   "metadata": {},
   "source": [
    "# 15.istitle()"
   ]
  },
  {
   "cell_type": "code",
   "execution_count": 24,
   "id": "9002f302",
   "metadata": {},
   "outputs": [
    {
     "name": "stdout",
     "output_type": "stream",
     "text": [
      "Rama Is A Good Boy\n",
      "s is a titled one\n"
     ]
    }
   ],
   "source": [
    "s=\"Rama Is A Good Boy\"\n",
    "print(s)\n",
    "if s.istitle()==True:\n",
    "    print(\"s is a titled one\")\n",
    "else:\n",
    "    print(\"s is not a titled one\")"
   ]
  },
  {
   "cell_type": "code",
   "execution_count": 25,
   "id": "15a2e831",
   "metadata": {},
   "outputs": [
    {
     "name": "stdout",
     "output_type": "stream",
     "text": [
      "Seeta is a Good Girl\n",
      "False\n"
     ]
    }
   ],
   "source": [
    "s=\"Seeta is a Good Girl\"\n",
    "print(s)\n",
    "s1=s.istitle()\n",
    "print(s1)"
   ]
  },
  {
   "cell_type": "markdown",
   "id": "801c8ab0",
   "metadata": {},
   "source": [
    "# 16.join()"
   ]
  },
  {
   "cell_type": "code",
   "execution_count": 27,
   "id": "8b876b28",
   "metadata": {},
   "outputs": [
    {
     "name": "stdout",
     "output_type": "stream",
     "text": [
      "['anusha', 'rama', 'seeta', 'vinaya']\n",
      "anusha,rama,seeta,vinaya\n"
     ]
    }
   ],
   "source": [
    "list=['anusha','rama','seeta','vinaya']\n",
    "print(list)\n",
    "list1=','\n",
    "list2=list1.join(list)\n",
    "print(list2)"
   ]
  },
  {
   "cell_type": "code",
   "execution_count": 28,
   "id": "966c5769",
   "metadata": {},
   "outputs": [
    {
     "name": "stdout",
     "output_type": "stream",
     "text": [
      "1seeta2seeta3seeta4seeta5\n"
     ]
    }
   ],
   "source": [
    "l=\"seeta\"\n",
    "l1=\"12345\"\n",
    "print(l.join(l1))"
   ]
  },
  {
   "cell_type": "code",
   "execution_count": 29,
   "id": "2876e929",
   "metadata": {},
   "outputs": [
    {
     "name": "stdout",
     "output_type": "stream",
     "text": [
      "s12345e12345e12345t12345a\n"
     ]
    }
   ],
   "source": [
    "l=\"seeta\"\n",
    "l1=\"12345\"\n",
    "print(l1.join(l))"
   ]
  },
  {
   "cell_type": "code",
   "execution_count": 30,
   "id": "d18fc3e2",
   "metadata": {},
   "outputs": [
    {
     "name": "stdout",
     "output_type": "stream",
     "text": [
      "4=5=3=2=1\n"
     ]
    }
   ],
   "source": [
    "g={'1','2','3','4','5'}\n",
    "g1='='\n",
    "print(g1.join(g))"
   ]
  },
  {
   "cell_type": "markdown",
   "id": "b1a8dbda",
   "metadata": {},
   "source": [
    "# 17.replace()"
   ]
  },
  {
   "cell_type": "code",
   "execution_count": 32,
   "id": "4bd6a071",
   "metadata": {},
   "outputs": [
    {
     "name": "stdout",
     "output_type": "stream",
     "text": [
      "'mango','guava','watermelon','banana'\n",
      "'mango','carrot','watermelon','banana'\n"
     ]
    }
   ],
   "source": [
    "fruits=\"'mango','guava','watermelon','banana'\"\n",
    "print(fruits)\n",
    "f1=fruits.replace('guava','carrot')\n",
    "print(f1)"
   ]
  },
  {
   "cell_type": "code",
   "execution_count": 34,
   "id": "eefa70c1",
   "metadata": {},
   "outputs": [
    {
     "name": "stdout",
     "output_type": "stream",
     "text": [
      "20,30,40,60\n",
      "20,30,40,100\n"
     ]
    }
   ],
   "source": [
    "marks='20,30,40,60'\n",
    "print(marks)\n",
    "m1=marks.replace('60','100')\n",
    "print(m1)"
   ]
  },
  {
   "cell_type": "markdown",
   "id": "47338506",
   "metadata": {},
   "source": [
    "# 18.rpartition()"
   ]
  },
  {
   "cell_type": "code",
   "execution_count": 35,
   "id": "176963fe",
   "metadata": {},
   "outputs": [
    {
     "name": "stdout",
     "output_type": "stream",
     "text": [
      "rama is a very very good girl\n",
      "('rama is a very very ', 'good', ' girl')\n"
     ]
    }
   ],
   "source": [
    "g=\"rama is a very very good girl\"\n",
    "print(g)\n",
    "g1=g.rpartition('good')\n",
    "print(g1)"
   ]
  },
  {
   "cell_type": "code",
   "execution_count": 36,
   "id": "1052bd06",
   "metadata": {},
   "outputs": [
    {
     "name": "stdout",
     "output_type": "stream",
     "text": [
      "rama is a very very good girl\n",
      "('rama is a very ', 'very', ' good girl')\n"
     ]
    }
   ],
   "source": [
    "g=\"rama is a very very good girl\"\n",
    "print(g)\n",
    "g1=g.rpartition('very')\n",
    "print(g1)"
   ]
  },
  {
   "cell_type": "code",
   "execution_count": 37,
   "id": "7bd573e8",
   "metadata": {},
   "outputs": [
    {
     "name": "stdout",
     "output_type": "stream",
     "text": [
      "rama is a very very good girl\n",
      "('', '', 'rama is a very very good girl')\n"
     ]
    }
   ],
   "source": [
    "g=\"rama is a very very good girl\"\n",
    "print(g)\n",
    "g1=g.rpartition('bad')\n",
    "print(g1)"
   ]
  },
  {
   "cell_type": "markdown",
   "id": "fb2b2e00",
   "metadata": {},
   "source": [
    "# 19.split()"
   ]
  },
  {
   "cell_type": "code",
   "execution_count": 39,
   "id": "f9a03a1d",
   "metadata": {},
   "outputs": [
    {
     "name": "stdout",
     "output_type": "stream",
     "text": [
      "hockey,chess,cricket,badminton,basketball\n",
      "['hockey', 'chess', 'cricket', 'badminton', 'basketball']\n"
     ]
    }
   ],
   "source": [
    "games='hockey,chess,cricket,badminton,basketball'\n",
    "print(games)\n",
    "g1=games.split(',')\n",
    "print(g1)"
   ]
  },
  {
   "cell_type": "code",
   "execution_count": 40,
   "id": "78bf4310",
   "metadata": {},
   "outputs": [
    {
     "name": "stdout",
     "output_type": "stream",
     "text": [
      "['hockey,chess,cricket,badminton,basketball']\n"
     ]
    }
   ],
   "source": [
    "g1=games.split(':')\n",
    "print(g1)"
   ]
  },
  {
   "cell_type": "code",
   "execution_count": 41,
   "id": "99ba60db",
   "metadata": {},
   "outputs": [
    {
     "name": "stdout",
     "output_type": "stream",
     "text": [
      "['hockey', 'chess', 'cricket', 'badminton,basketball']\n"
     ]
    }
   ],
   "source": [
    "g1=games.split(',',3)\n",
    "print(g1)"
   ]
  },
  {
   "cell_type": "markdown",
   "id": "919519d7",
   "metadata": {},
   "source": [
    "# 20.strip()"
   ]
  },
  {
   "cell_type": "code",
   "execution_count": 42,
   "id": "0a42b854",
   "metadata": {},
   "outputs": [
    {
     "name": "stdout",
     "output_type": "stream",
     "text": [
      "   you are good   \n",
      "you are good\n"
     ]
    }
   ],
   "source": [
    "a=\"   you are good   \"\n",
    "print(a)\n",
    "a1=a.strip()\n",
    "print(a1)"
   ]
  },
  {
   "cell_type": "markdown",
   "id": "92e64429",
   "metadata": {},
   "source": [
    "# 21.swapcase()"
   ]
  },
  {
   "cell_type": "code",
   "execution_count": 43,
   "id": "48229539",
   "metadata": {},
   "outputs": [
    {
     "name": "stdout",
     "output_type": "stream",
     "text": [
      "We Are WaiTing\n",
      "wE aRE wAItING\n"
     ]
    }
   ],
   "source": [
    "b=\"We Are WaiTing\"\n",
    "print(b)\n",
    "b1=b.swapcase()\n",
    "print(b1)"
   ]
  },
  {
   "cell_type": "markdown",
   "id": "15957628",
   "metadata": {},
   "source": [
    "# 22.zfill()"
   ]
  },
  {
   "cell_type": "code",
   "execution_count": 44,
   "id": "226d07ca",
   "metadata": {},
   "outputs": [
    {
     "name": "stdout",
     "output_type": "stream",
     "text": [
      "programming\n",
      "0000programming\n"
     ]
    }
   ],
   "source": [
    "d=\"programming\"\n",
    "print(d)\n",
    "d1=d.zfill(15)\n",
    "print(d1)"
   ]
  },
  {
   "cell_type": "code",
   "execution_count": 45,
   "id": "5a69bb13",
   "metadata": {},
   "outputs": [
    {
     "name": "stdout",
     "output_type": "stream",
     "text": [
      "rigveda\n",
      "rigveda\n"
     ]
    }
   ],
   "source": [
    "d=\"rigveda\"\n",
    "print(d)\n",
    "d1=d.zfill(5)\n",
    "print(d1)"
   ]
  },
  {
   "cell_type": "code",
   "execution_count": null,
   "id": "aff54387",
   "metadata": {},
   "outputs": [],
   "source": []
  }
 ],
 "metadata": {
  "kernelspec": {
   "display_name": "Python 3 (ipykernel)",
   "language": "python",
   "name": "python3"
  },
  "language_info": {
   "codemirror_mode": {
    "name": "ipython",
    "version": 3
   },
   "file_extension": ".py",
   "mimetype": "text/x-python",
   "name": "python",
   "nbconvert_exporter": "python",
   "pygments_lexer": "ipython3",
   "version": "3.9.7"
  }
 },
 "nbformat": 4,
 "nbformat_minor": 5
}
